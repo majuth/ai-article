{
 "cells": [
  {
   "cell_type": "code",
   "execution_count": 5,
   "metadata": {},
   "outputs": [],
   "source": [
    "# Sample text from an article\n",
    "\n",
    "text = \"\"\"But volume for Nvidia has been lighter and that shows that big institutions like mutual funds have not been trading the stock heavily lately. It's best when you buy stocks that funds are also buying.\n",
    "\n",
    "Although the stock's price performance has beaten 95% of other stocks in Investor's Business Daily's database, funds have been wary of buying the stock lately. The Accumulation/Distribution Rating, which measures price and volume action over the last 13 weeks, is just D-.\n",
    "\n",
    "Shares can surge quickly once big money starts flowing in.\n",
    "\n",
    "However, the relative strength line, which compares the stock with the S&P 500 index, fell sharply after the stock hit its all-time high of 152.89 last week. The relative strength line compares the stock with the S&P 500. The blue line on IBD MarketSurge shows that Nvidia has not been matching the index's gains recently.\n",
    "\n",
    "It is best to wait for that line to pick up.\n",
    "\n",
    "On Friday, reports said the AI chip behemoth was in talks with Taiwan Semiconductor (TSMC) to start production of its Blackwell chip in Arizona. So far, TSMC has made Nvidia's most advanced chips in Taiwan. The plan could be a way to get around tariff risks from the Trump administration.\n",
    "\n",
    "Earlier plans were to use the Arizona factory for less-advanced chips.\n",
    "\n",
    "Nvidia Rises After Salesforce Earnings\n",
    "Shares rose more than 3% on Wednesday last week after software leader and Dow Jones component Salesforce (CRM) reported strong results late Tuesday.\n",
    "\n",
    "Salesforce is in the limelight, with analysts watching how its investment in autonomous AI agents can pay back investors. Salesforce is developing a next generation of autonomous, goal-driven AI \"agents.\"  Customers have been reluctant to pay for the earlier chatbot interfaces, called copilots.\n",
    "\n",
    "After the company's report, analysts noted that its artificial intelligence products were gaining traction.\n",
    "\n",
    "However, last week, shares came under pressure after President-elect Donald Trump said he plans big tariffs on goods from China, Mexico and Canada.\n",
    "\n",
    "But Bernstein Research analyst Stacy Rasgon noted that \"raw semiconductor\" imports from these countries were tiny and would not hurt Nvidia. The analyst did say the tariff raises some concerns that there may be more broad-based action that could hurt the semiconductor industry and even leaders like Nvidia.\n",
    "\n",
    "Mizuho analyst Jordan Klein noted that the \"restrictions seem in line or less severe than anticipated.\" Piper Sandler analysts also stated that there were fewer entities on the restriction list than expected.\n",
    "\n",
    "In November, analysts at Piper Sandler projected a 20% upside for the stock and raised their price target to 175 from 140. Nvidia is positioned to gain most from the increase in the total AI accelerator market, which Piper Sandler sees at $70 billion in 2025.\n",
    "\n",
    "Stock Market Leader\n",
    "For Nvidia, its earnings growth is its strong point. \n",
    "\n",
    "The AI chip behemoth continues to be a stock market leader and has an ideal Earnings Per Share Rating of 99, while the stock also shows all-around strength with a Composite Rating of 96.\n",
    "\n",
    "Nvidia stock is on the IBD Leaderboard, IBD SwingTrader, and IBD 50.\n",
    "\n",
    "Are These Magnificent Seven Stocks A Buy Now?\n",
    "Alphabet | Amazon | Apple | Meta | Microsoft | Nvidia | Tesla\n",
    "\n",
    "According to FactSet data, Nvidia ranks first among S&P 500 companies for revenue and earnings growth estimates through 2026.\n",
    "\n",
    "Analysts expect a compound annual growth rate of 5.7% in sales for the S&P 500 with 13.8% in earnings per share over two years. But they see Nvidia's two-year compound growth reaching 35.5% in sales and 35.1% in earnings per share.\n",
    "\n",
    "Third-Quarter Results Beat Views\n",
    "Third-quarter sales came in at $35.08 billion with earnings of 81 cents per share. Analysts polled by FactSet had estimates of 75 cents per share on sales of $33.17 billion. Sales also beat the AI chip leader's outlook of $32.5 billion for the quarter.\n",
    "\n",
    "Sales nearly doubled from the prior year, when Nvidia reported $18.1 billion in revenue.\n",
    "\n",
    "Earlier, chip lithography gear maker ASML (ASML) maintained its 2030 sales target of $46.3 billion at the lower end. The announcement followed a warning on Oct. 15, when ASML anticipated slower demand in 2025. That sent Nvidia stock nearly 5% lower on the day.\n",
    "\n",
    "ASML Chief Executive Christophe Fouquet said the company expected that it would be able \"to scale (extreme ultraviolet lithography) technology into the next decade\" and contribute to the artificial intelligence opportunity.\n",
    "\n",
    "Analysts at Jefferies Group believed that the slowdown in chip demand appeared to be temporary. ASML's lithography machines are used by foundries that supply chips to Nvidia.\n",
    "\n",
    "Analysts Views Ahead Of Third Quarter Results\n",
    "Ahead of Nvidia's results, Morgan Stanley analyst Joe Moore cited concerns over a chip shortage that could dent its earnings and outlook.\n",
    "\n",
    "The analyst maintained an overweight rating and 160 price target but saw the September-ended period as a \"transitional quarter.\"\n",
    "\n",
    "Revenue from its Blackwell chip could be $5 billion to $6 billion in the January quarter, the analyst said.\n",
    "\n",
    "Melius Research analysts also raised their price target to 185 from 165 and maintained their buy rating.\n",
    "\n",
    "Nvidia replaced Intel (INTC) in the Dow Jones Industrial Average in November. It is also the fourth Magnificent Seven stock to join the Dow Jones industrials. The others are Apple (AAPL), Amazon.com (AMZN) and Microsoft (MSFT).\n",
    "\n",
    "Big Tech's Strong AI Spending\n",
    "Recent news shows demand for Nvidia's AI chips remains high. The chief investment officer at UBS Global Wealth Management, Mark Haefele, noted that \"Big Tech's combined capex (capital expenditure) spending of $218 billion this year and another $254 billion in 2025 bodes well for the AI investment thesis.\"\n",
    "\n",
    "Meanwhile strong AI data center demand helped Vertiv (VRT), which provides products and services to build AI data centers, beat earnings estimates for its September quarter.\n",
    "\n",
    "In October, Nvidia CEO Jensen Huang said that a design flaw in its next-gen Blackwell chip had been fixed.\n",
    "\n",
    "Earlier, yields were low but AI-chip maker Taiwan Semiconductor (TSM) helped \"recover from that yield difficulty and resume the manufacturing of Blackwell at an incredible pace.\"\n",
    "\n",
    "Nvidia stock cleared a trendline entry near 139.60 on Oct. 17 after Taiwan Semiconductor profits surged 54.2% year over year. Taiwan Semi is a big supplier of AI chips to Nvidia and Apple.\n",
    "\n",
    "How To Read Stock Charts\n",
    "\n",
    "Nvidia Is A Must-Watch Stock\n",
    "Meanwhile, bullish trends for artificial intelligence make Nvidia a must watch. In September, consulting firm Bain said the total addressable market for AI hardware and software will grow 40% to 55% for at least the next three years.\n",
    "\n",
    "Demand for Nvidia's next generation graphics processing unit, the GB200, is expected to reach 3 million in 2026 vs. 1.5 million for its H100 units in 2023.\n",
    "\n",
    "Elsewhere, analysts at Bernstein said that after its phenomenal growth, sustainability is the main question Nvidia faces, but the \"time to worry is clearly not now.\"\n",
    "\n",
    "On Sept. 3, Nvidia fell sharply below the 50-day moving average and saw the largest one-day market cap ever loss in dollar terms for any U.S. company, according to Dow Jones Markets Data. \n",
    "\n",
    "Earnings From AI Giants Move Nvidia Stock\n",
    "Results from other AI leading companies have influenced the stock. Memory-chip maker Micron (MU) cited robust AI demand, which gave Nvidia stock a lift while Oracle (ORCL) Chairman and Chief Technology Officer Larry Ellison said his company is building a data center with \"acres of Nvidia GPU clusters for training large language scale AI models.\"\"\""
   ]
  },
  {
   "cell_type": "code",
   "execution_count": 6,
   "metadata": {},
   "outputs": [
    {
     "data": {
      "text/plain": [
       "\"But volume for Nvidia has been lighter and that shows that big institutions like mutual funds have not been trading the stock heavily lately. It's best when you buy stocks that funds are also buying.\\n\""
      ]
     },
     "execution_count": 6,
     "metadata": {},
     "output_type": "execute_result"
    }
   ],
   "source": [
    "text[:200]"
   ]
  },
  {
   "cell_type": "code",
   "execution_count": 7,
   "metadata": {},
   "outputs": [
    {
     "data": {
      "text/plain": [
       "59"
      ]
     },
     "execution_count": 7,
     "metadata": {},
     "output_type": "execute_result"
    }
   ],
   "source": [
    "from langchain_text_splitters import RecursiveCharacterTextSplitter\n",
    "\n",
    "recursive_splitter = RecursiveCharacterTextSplitter(\n",
    "    separators = [\"\\n\\n\", \"\\n\", \" \"],\n",
    "    chunk_size = 200,\n",
    "    chunk_overlap = 0\n",
    ")\n",
    "\n",
    "chunks = recursive_splitter.split_text(text)\n",
    "len(chunks)"
   ]
  },
  {
   "cell_type": "code",
   "execution_count": 9,
   "metadata": {},
   "outputs": [
    {
     "name": "stdout",
     "output_type": "stream",
     "text": [
      "199\n",
      "197\n",
      "74\n",
      "58\n",
      "197\n",
      "124\n",
      "44\n",
      "198\n",
      "89\n",
      "70\n",
      "187\n",
      "194\n",
      "100\n",
      "107\n",
      "147\n",
      "197\n",
      "109\n",
      "198\n",
      "9\n",
      "190\n",
      "68\n",
      "72\n",
      "186\n",
      "177\n",
      "125\n",
      "198\n",
      "32\n",
      "32\n",
      "196\n",
      "55\n",
      "88\n",
      "193\n",
      "66\n",
      "197\n",
      "25\n",
      "174\n",
      "183\n",
      "128\n",
      "107\n",
      "104\n",
      "198\n",
      "28\n",
      "29\n",
      "196\n",
      "109\n",
      "173\n",
      "106\n",
      "178\n",
      "188\n",
      "24\n",
      "28\n",
      "198\n",
      "34\n",
      "155\n",
      "165\n",
      "187\n",
      "41\n",
      "190\n",
      "155\n"
     ]
    }
   ],
   "source": [
    "for chunk in chunks:\n",
    "    print(len(chunk))"
   ]
  }
 ],
 "metadata": {
  "kernelspec": {
   "display_name": "Python 3",
   "language": "python",
   "name": "python3"
  },
  "language_info": {
   "codemirror_mode": {
    "name": "ipython",
    "version": 3
   },
   "file_extension": ".py",
   "mimetype": "text/x-python",
   "name": "python",
   "nbconvert_exporter": "python",
   "pygments_lexer": "ipython3",
   "version": "3.10.2"
  }
 },
 "nbformat": 4,
 "nbformat_minor": 2
}
