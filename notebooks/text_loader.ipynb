{
 "cells": [
  {
   "cell_type": "code",
   "execution_count": 8,
   "metadata": {},
   "outputs": [],
   "source": [
    "from langchain.document_loaders import UnstructuredURLLoader"
   ]
  },
  {
   "cell_type": "code",
   "execution_count": 9,
   "metadata": {},
   "outputs": [],
   "source": [
    "loader = UnstructuredURLLoader(urls=[\n",
    "    \"https://finance.yahoo.com/news/nvidia-crushes-expectations-more-doubling-225313632.html?guccounter=1&guce_referrer=aHR0cHM6Ly93d3cuZ29vZ2xlLmNvbS8&guce_referrer_sig=AQAAADxP8quVmFwAVSNdEBpftmnKE7PjgOXgtJ1I6o2dnZg6uTmIKuqY0WJ54LQeEBqA-7YDFpMWFvnjDrajFLJj9Ru0GfUix4bhKDMr0FBQxRjVa8KLh2At2quyyqfNMhVkFs6boO3dYvhVtqlvaEoledK23eRYayrZZ9SsMfMcqzoH\",\n",
    "    \"https://www.investors.com/research/nvda-stock-is-nvidia-a-buy-2/\"\n",
    "])"
   ]
  },
  {
   "cell_type": "code",
   "execution_count": 10,
   "metadata": {},
   "outputs": [
    {
     "data": {
      "text/plain": [
       "2"
      ]
     },
     "execution_count": 10,
     "metadata": {},
     "output_type": "execute_result"
    }
   ],
   "source": [
    "data = loader.load()\n",
    "len(data)"
   ]
  },
  {
   "cell_type": "code",
   "execution_count": 11,
   "metadata": {},
   "outputs": [
    {
     "data": {
      "text/plain": [
       "Document(metadata={'source': 'https://finance.yahoo.com/news/nvidia-crushes-expectations-more-doubling-225313632.html?guccounter=1&guce_referrer=aHR0cHM6Ly93d3cuZ29vZ2xlLmNvbS8&guce_referrer_sig=AQAAADxP8quVmFwAVSNdEBpftmnKE7PjgOXgtJ1I6o2dnZg6uTmIKuqY0WJ54LQeEBqA-7YDFpMWFvnjDrajFLJj9Ru0GfUix4bhKDMr0FBQxRjVa8KLh2At2quyyqfNMhVkFs6boO3dYvhVtqlvaEoledK23eRYayrZZ9SsMfMcqzoH'}, page_content='We are experiencing some temporary issues. The market data on this page is currently delayed. Please bear with us as we address this and restore your personalized lists.\\n\\nNvidia crushes expectations, more than doubling its profit amid a 94% surge in revenue as AI demand booms\\n\\nPaolo Confino\\n\\nUpdated Thu, Dec 5, 2024, 1:32 PM 3 min read\\n\\nIn This Article:\\n\\nNVDA\\n\\nNvidia\\'s third quarter results came in better than expected as the company beat the already soaring expectations placed at its feet, according to a highly anticipated earnings call.\\n\\nRevenues for the quarter were $35.1 billion, up 94% from a year ago and a 17% increase from the previous quarter. Profits were $19.3 billion, an increase of 109% from the same time last year. Gross margins dipped slightly to 74.6% this quarter from 75.1% in the second quarter. Even that, though, was better than expected. UBS had forecasted a 200 basis point reduction in gross margin, according to analyst note from earlier this month.\\n\\nGAAP earnings per share were up 111% compared to last year for $0.78 a share.\\n\\n\"Explosive earnings again,\" said Alonso Munoz, chief investment officer of Hamilton Capital Partners.\\n\\nThe stock market darling and prime beneficiary of the AI boom was expected to deliver another stand-out quarter. Anything less would have disappointed the markets. Nvidia beat expectations on all fronts outperforming analyst forecasts on growth. The prime concern for the stock, which has been on a meteoric 200% rise since the start of the year, remains whether it can continue to grow at the pace it has so far. The $35.1 billion in revenue topped expectations that were meant to be somewhere in the $34 billion to $35 billion range.\\n\\nThe bulk of Nvidia\\'s revenue comes from its data center business that encompasses sales of the components used to power AI products. Revenue for that division was $30.8 billion, higher than the roughly $28 billion some had expected.\\n\\nThe lead-up to the earnings call did feature some amount of trepidation. The stock fell 1% on Wednesday before the earnings report, set to be released after market close. Shares fell 2% in after-hours trading. The moves in the stock were expected, as investors sought to harvest gains by selling at what they believed to be the peak. Investors that continue to hold the stock have to grit their teeth and believe in the company\\'s continued growth trajectory, which it showed yet again. \"We\\'re sanguine about the fact that we expected this,\" Munoz said.\\n\\nOn the call, Nvidia CEO Jensen Huang addressed the demand for its new Blackwell chips. Huang said the company was delivering more Blackwell chips this quarter than expected. \"Blackwell production is in full steam,\" Huang said. Investors had previously questioned whether there were production delays in the new chip.\\n\\nConcerns were further heightened this week when the tech publication The Information reported that Blackwell was overheating in certain data center racks. Nvidia said it was \"normal and expected\" that certain customers had to change the configuration of its data center racks.\\n\\nPerhaps the one lingering concern is that the immediate rollout of Blackwell should see a slight drop in gross margin toward the low-70s, Nvidia chief financial officer Collette Kress said on the call. She added that drop was expected to be temporary. \"We will start growing into our gross margins,\" Kress said.\\n\\nThis story was originally featured on Fortune.com\\n\\nTerms\\n\\nand\\n\\nPrivacy Policy\\n\\nPrivacy Dashboard\\n\\nRecommended Stories\\n\\nCopyright © 2024 Yahoo. All rights reserved.\\n\\nPOPULAR QUOTES\\n\\nDow Jones\\n\\nS&P 500\\n\\nDAX Index\\n\\nNvidia\\n\\nTesla\\n\\nDJT\\n\\nEXPLORE MORE\\n\\nMortgages\\n\\nCredit Cards\\n\\nSectors\\n\\nCrypto Heatmap\\n\\nBiden Economy\\n\\nFinancial News\\n\\nABOUT\\n\\nData Disclaimer\\n\\nHelp\\n\\nFeedback\\n\\nSitemap\\n\\nLicensing\\n\\nWhat\\'s New\\n\\nAbout Our Ads\\n\\nPremium Plans\\n\\nTerms\\n\\nand\\n\\nPrivacy Policy\\n\\nPrivacy Dashboard\\n\\nU.S. markets closed\\n\\nS&P 500\\n\\nDow 30\\n\\nNasdaq\\n\\nRussell 2000\\n\\nCrude Oil\\n\\nGold\\n\\nMy Portfolios\\n\\nMy Portfolios\\n\\nSign in to access your portfolio\\n\\nSign in\\n\\nTop Gainers\\n\\nSOUN SoundHound AI, Inc.\\n\\nAAL American Airlines Group Inc.\\n\\nAUR Aurora Innovation, Inc.\\n\\nBF-A Brown-Forman Corporation\\n\\nBF-B Brown-Forman Corporation\\n\\nTop Losers\\n\\nAVAV AeroVironment, Inc.\\n\\nAEO American Eagle Outfitters, Inc.\\n\\nS SentinelOne, Inc.\\n\\nSNPS Synopsys, Inc.\\n\\nNCNO nCino, Inc.\\n\\nMost Active\\n\\nSOUN SoundHound AI, Inc.\\n\\nPLUG Plug Power Inc.\\n\\nINTC Intel Corporation\\n\\nNVDA NVIDIA Corporation\\n\\nLCID Lucid Group, Inc.\\n\\nTrending Tickers\\n\\nGME GameStop Corp.\\n\\nUBER Uber Technologies, Inc.\\n\\nTSLA Tesla, Inc.\\n\\nPLUG Plug Power Inc.\\n\\nAMC AMC Entertainment Holdings, Inc.\\n\\nTop Economic Events\\n\\nTop Economic Events\\n\\nInitial Jobless Clm*\\n\\nDec 5, 2024, 8:30 AM EST\\n\\nPrior: P: 213\\n\\nNew: N: 224\\n\\nInitial Jobless Clm*\\n\\nPrior: 213\\n\\nNew: 224\\n\\nInitial Jobless Clm*\\n\\nDec 5, 2024, 8:30 AM EST\\n\\nPrior: Prior: 213\\n\\nNew: New: 224\\n\\nTerms\\n\\nand\\n\\nPrivacy Policy\\n\\nPrivacy Dashboard\\n\\nAd Terms\\n\\nFeedback')"
      ]
     },
     "execution_count": 11,
     "metadata": {},
     "output_type": "execute_result"
    }
   ],
   "source": [
    "data[0]"
   ]
  }
 ],
 "metadata": {
  "kernelspec": {
   "display_name": "Python 3",
   "language": "python",
   "name": "python3"
  },
  "language_info": {
   "codemirror_mode": {
    "name": "ipython",
    "version": 3
   },
   "file_extension": ".py",
   "mimetype": "text/x-python",
   "name": "python",
   "nbconvert_exporter": "python",
   "pygments_lexer": "ipython3",
   "version": "3.10.2"
  }
 },
 "nbformat": 4,
 "nbformat_minor": 2
}
